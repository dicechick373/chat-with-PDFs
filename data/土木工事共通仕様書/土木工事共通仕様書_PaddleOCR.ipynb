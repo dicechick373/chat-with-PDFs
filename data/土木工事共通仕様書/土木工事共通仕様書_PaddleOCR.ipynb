{
  "nbformat": 4,
  "nbformat_minor": 0,
  "metadata": {
    "colab": {
      "provenance": [],
      "toc_visible": true,
      "gpuType": "T4"
    },
    "kernelspec": {
      "display_name": "Python 3",
      "name": "python3"
    },
    "accelerator": "GPU"
  },
  "cells": [
    {
      "cell_type": "markdown",
      "metadata": {
        "id": "view-in-github"
      },
      "source": [
        "<a href=\"https://colab.research.google.com/github/dicechick373/statistics-hyogo/blob/main/colab/estatContents_landweather.ipynb\" target=\"_parent\"><img src=\"https://colab.research.google.com/assets/colab-badge.svg\" alt=\"Open In Colab\"/></a>"
      ]
    },
    {
      "cell_type": "markdown",
      "source": [
        "# 準備"
      ],
      "metadata": {
        "id": "0HVgVqbGimZn"
      }
    },
    {
      "cell_type": "markdown",
      "source": [
        "## GoogleDriveへ接続"
      ],
      "metadata": {
        "id": "AfTY4iZcPUmd"
      }
    },
    {
      "cell_type": "code",
      "source": [
        "# Mounting Google Drive\n",
        "from google.colab import drive\n",
        "drive.mount('/content/drive')"
      ],
      "metadata": {
        "colab": {
          "base_uri": "https://localhost:8080/"
        },
        "id": "BLoLqdqgihar",
        "outputId": "5712dad7-969e-4a5d-e7ca-166631b60697"
      },
      "execution_count": 1,
      "outputs": [
        {
          "output_type": "stream",
          "name": "stdout",
          "text": [
            "Drive already mounted at /content/drive; to attempt to forcibly remount, call drive.mount(\"/content/drive\", force_remount=True).\n"
          ]
        }
      ]
    },
    {
      "cell_type": "markdown",
      "source": [
        "## OpenAI APIキー"
      ],
      "metadata": {
        "id": "QeFLPEWlPYQ0"
      }
    },
    {
      "cell_type": "code",
      "source": [
        "# OpenAI APIキーの設定\n",
        "openai_key = \"\" #@param {type:\"string\"}"
      ],
      "metadata": {
        "id": "VhMzOsASPDpJ"
      },
      "execution_count": 2,
      "outputs": []
    },
    {
      "cell_type": "markdown",
      "metadata": {
        "id": "vM6ta952S2z2"
      },
      "source": [
        "## パッケージインストール"
      ]
    },
    {
      "cell_type": "code",
      "source": [
        "!python3 -m pip install paddlepaddle -i https://mirror.baidu.com/pypi/simple\n",
        "!pip install \"paddleocr>=2.0.1\"\n",
        "!pip install \"PyMuPDF<=1.19\"\n",
        "!wget http://nz2.archive.ubuntu.com/ubuntu/pool/main/o/openssl/libssl1.1_1.1.1f-1ubuntu2.19_amd64.deb\n",
        "!sudo dpkg -i libssl1.1_1.1.1f-1ubuntu2.19_amd64.deb"
      ],
      "metadata": {
        "id": "cKqvPX51It_B"
      },
      "execution_count": null,
      "outputs": []
    },
    {
      "cell_type": "markdown",
      "source": [
        "# PaddleOCR"
      ],
      "metadata": {
        "id": "ZLLPbNyFQGL5"
      }
    },
    {
      "cell_type": "markdown",
      "source": [
        "## テスト"
      ],
      "metadata": {
        "id": "M-HxnG44QPGS"
      }
    },
    {
      "cell_type": "code",
      "source": [
        "# 入力するPDF\n",
        "pdf_path = '/content/drive/MyDrive/github_repositories/chat-with-PDFs/data/土木技術管理規定集/テスト.pdf'\n",
        "\n",
        "# 出力するテキスト\n",
        "txt_path = '/content/drive/MyDrive/github_repositories/chat-with-PDFs/data/土木技術管理規定集/テスト.txt'"
      ],
      "metadata": {
        "id": "URp2ja87JkiC"
      },
      "execution_count": 3,
      "outputs": []
    },
    {
      "cell_type": "code",
      "source": [
        "from paddleocr import PaddleOCR, draw_ocr\n",
        "\n",
        "def pdf_to_txt(pdf_path):\n",
        "    # OCRモデルの初期化\n",
        "    ocr = PaddleOCR(lang=\"japan\")\n",
        "\n",
        "    # 結果を格納するリスト\n",
        "    list_txt = []\n",
        "\n",
        "    # OCR処理\n",
        "    result = ocr.ocr(pdf_path)\n",
        "    for idx in range(len(result)):\n",
        "        res = result[idx]\n",
        "        for line in res:\n",
        "            list_txt.append(f\"({line[0][0][0]}, {line[0][0][1]}): {line[1][0]}\")\n",
        "\n",
        "    return list_txt\n",
        "\n",
        "\n",
        "def save_txt(list_txt,txt_path):\n",
        "    with open(txt_path, 'w') as f:\n",
        "        for t in list_txt:\n",
        "            f.write(\"%s\\n\" % t)\n",
        "\n"
      ],
      "metadata": {
        "id": "LoakSGAQKQCO"
      },
      "execution_count": 4,
      "outputs": []
    },
    {
      "cell_type": "code",
      "source": [
        "list_txt = pdf_to_txt(pdf_path)\n",
        "save_txt(list_txt,txt_path)"
      ],
      "metadata": {
        "colab": {
          "base_uri": "https://localhost:8080/"
        },
        "id": "H01DQjT5V79_",
        "outputId": "a4353c24-d1d1-4cd1-81e6-17d4d4378e8b"
      },
      "execution_count": 5,
      "outputs": [
        {
          "output_type": "stream",
          "name": "stdout",
          "text": [
            "[2023/09/09 00:35:42] ppocr DEBUG: Namespace(help='==SUPPRESS==', use_gpu=False, use_xpu=False, use_npu=False, ir_optim=True, use_tensorrt=False, min_subgraph_size=15, precision='fp32', gpu_mem=500, gpu_id=0, image_dir=None, page_num=0, det_algorithm='DB', det_model_dir='/root/.paddleocr/whl/det/ml/Multilingual_PP-OCRv3_det_infer', det_limit_side_len=960, det_limit_type='max', det_box_type='quad', det_db_thresh=0.3, det_db_box_thresh=0.6, det_db_unclip_ratio=1.5, max_batch_size=10, use_dilation=False, det_db_score_mode='fast', det_east_score_thresh=0.8, det_east_cover_thresh=0.1, det_east_nms_thresh=0.2, det_sast_score_thresh=0.5, det_sast_nms_thresh=0.2, det_pse_thresh=0, det_pse_box_thresh=0.85, det_pse_min_area=16, det_pse_scale=1, scales=[8, 16, 32], alpha=1.0, beta=1.0, fourier_degree=5, rec_algorithm='SVTR_LCNet', rec_model_dir='/root/.paddleocr/whl/rec/japan/japan_PP-OCRv4_rec_infer', rec_image_inverse=True, rec_image_shape='3, 48, 320', rec_batch_num=6, max_text_length=25, rec_char_dict_path='/usr/local/lib/python3.10/dist-packages/paddleocr/ppocr/utils/dict/japan_dict.txt', use_space_char=True, vis_font_path='./doc/fonts/simfang.ttf', drop_score=0.5, e2e_algorithm='PGNet', e2e_model_dir=None, e2e_limit_side_len=768, e2e_limit_type='max', e2e_pgnet_score_thresh=0.5, e2e_char_dict_path='./ppocr/utils/ic15_dict.txt', e2e_pgnet_valid_set='totaltext', e2e_pgnet_mode='fast', use_angle_cls=False, cls_model_dir='/root/.paddleocr/whl/cls/ch_ppocr_mobile_v2.0_cls_infer', cls_image_shape='3, 48, 192', label_list=['0', '180'], cls_batch_num=6, cls_thresh=0.9, enable_mkldnn=False, cpu_threads=10, use_pdserving=False, warmup=False, sr_model_dir=None, sr_image_shape='3, 32, 128', sr_batch_num=1, draw_img_save_dir='./inference_results', save_crop_res=False, crop_res_save_dir='./output', use_mp=False, total_process_num=1, process_id=0, benchmark=False, save_log_path='./log_output/', show_log=True, use_onnx=False, return_word_box=False, output='./output', table_max_len=488, table_algorithm='TableAttn', table_model_dir=None, merge_no_span_structure=True, table_char_dict_path=None, layout_model_dir=None, layout_dict_path=None, layout_score_threshold=0.5, layout_nms_threshold=0.5, kie_algorithm='LayoutXLM', ser_model_dir=None, re_model_dir=None, use_visual_backbone=True, ser_dict_path='../train_data/XFUND/class_list_xfun.txt', ocr_order_method=None, mode='structure', image_orientation=False, layout=True, table=True, ocr=True, recovery=False, use_pdf2docx_api=False, lang='japan', det=True, rec=True, type='ocr', ocr_version='PP-OCRv4', structure_version='PP-StructureV2')\n",
            "[2023/09/09 00:35:43] ppocr WARNING: Since the angle classifier is not initialized, the angle classifier will not be uesd during the forward process\n"
          ]
        },
        {
          "output_type": "stream",
          "name": "stderr",
          "text": [
            "Deprecation: 'getPixmap' removed from class 'Page' after v1.19.0 - use 'get_pixmap'.\n"
          ]
        },
        {
          "output_type": "stream",
          "name": "stdout",
          "text": [
            "[2023/09/09 00:35:47] ppocr DEBUG: dt_boxes num : 83, elapse : 1.1372606754302979\n",
            "[2023/09/09 00:36:04] ppocr DEBUG: rec_res num  : 83, elapse : 17.33782649040222\n",
            "[2023/09/09 00:36:05] ppocr DEBUG: dt_boxes num : 67, elapse : 0.5436766147613525\n",
            "[2023/09/09 00:36:14] ppocr DEBUG: rec_res num  : 67, elapse : 9.262783765792847\n",
            "[2023/09/09 00:36:15] ppocr DEBUG: dt_boxes num : 34, elapse : 0.7083921432495117\n",
            "[2023/09/09 00:36:21] ppocr DEBUG: rec_res num  : 34, elapse : 6.642261505126953\n",
            "[2023/09/09 00:36:22] ppocr DEBUG: dt_boxes num : 135, elapse : 0.5927038192749023\n",
            "[2023/09/09 00:36:46] ppocr DEBUG: rec_res num  : 135, elapse : 23.573428630828857\n",
            "[2023/09/09 00:36:46] ppocr DEBUG: dt_boxes num : 57, elapse : 0.5725297927856445\n",
            "[2023/09/09 00:36:58] ppocr DEBUG: rec_res num  : 57, elapse : 11.979643106460571\n",
            "[2023/09/09 00:36:59] ppocr DEBUG: dt_boxes num : 29, elapse : 0.729651689529419\n",
            "[2023/09/09 00:37:04] ppocr DEBUG: rec_res num  : 29, elapse : 4.874549388885498\n",
            "[2023/09/09 00:37:04] ppocr DEBUG: dt_boxes num : 169, elapse : 0.6010763645172119\n",
            "[2023/09/09 00:37:32] ppocr DEBUG: rec_res num  : 169, elapse : 27.76802968978882\n",
            "[2023/09/09 00:37:33] ppocr DEBUG: dt_boxes num : 95, elapse : 0.5571105480194092\n",
            "[2023/09/09 00:37:52] ppocr DEBUG: rec_res num  : 95, elapse : 19.399393796920776\n",
            "[2023/09/09 00:37:53] ppocr DEBUG: dt_boxes num : 71, elapse : 0.6668086051940918\n",
            "[2023/09/09 00:38:07] ppocr DEBUG: rec_res num  : 71, elapse : 14.520318984985352\n",
            "[2023/09/09 00:38:08] ppocr DEBUG: dt_boxes num : 78, elapse : 0.6648449897766113\n",
            "[2023/09/09 00:38:27] ppocr DEBUG: rec_res num  : 78, elapse : 18.952768325805664\n",
            "[2023/09/09 00:38:28] ppocr DEBUG: dt_boxes num : 56, elapse : 0.6683864593505859\n",
            "[2023/09/09 00:38:42] ppocr DEBUG: rec_res num  : 56, elapse : 14.313705444335938\n",
            "[2023/09/09 00:38:43] ppocr DEBUG: dt_boxes num : 61, elapse : 0.6758100986480713\n",
            "[2023/09/09 00:38:57] ppocr DEBUG: rec_res num  : 61, elapse : 14.577922105789185\n",
            "[2023/09/09 00:38:58] ppocr DEBUG: dt_boxes num : 68, elapse : 0.6724743843078613\n",
            "[2023/09/09 00:39:15] ppocr DEBUG: rec_res num  : 68, elapse : 16.573866605758667\n",
            "[2023/09/09 00:39:15] ppocr DEBUG: dt_boxes num : 89, elapse : 0.6901090145111084\n",
            "[2023/09/09 00:39:35] ppocr DEBUG: rec_res num  : 89, elapse : 19.761046171188354\n",
            "[2023/09/09 00:39:36] ppocr DEBUG: dt_boxes num : 122, elapse : 0.6976144313812256\n",
            "[2023/09/09 00:39:53] ppocr DEBUG: rec_res num  : 122, elapse : 17.785840034484863\n",
            "[2023/09/09 00:39:54] ppocr DEBUG: dt_boxes num : 32, elapse : 0.6606431007385254\n",
            "[2023/09/09 00:39:59] ppocr DEBUG: rec_res num  : 32, elapse : 4.330702066421509\n",
            "[2023/09/09 00:39:59] ppocr DEBUG: dt_boxes num : 53, elapse : 0.9089756011962891\n",
            "[2023/09/09 00:40:07] ppocr DEBUG: rec_res num  : 53, elapse : 7.956265211105347\n",
            "[2023/09/09 00:40:08] ppocr DEBUG: dt_boxes num : 37, elapse : 0.6693840026855469\n",
            "[2023/09/09 00:40:13] ppocr DEBUG: rec_res num  : 37, elapse : 5.372991323471069\n",
            "[2023/09/09 00:40:14] ppocr DEBUG: dt_boxes num : 88, elapse : 0.9088809490203857\n",
            "[2023/09/09 00:40:33] ppocr DEBUG: rec_res num  : 88, elapse : 18.346598386764526\n",
            "[2023/09/09 00:40:34] ppocr DEBUG: dt_boxes num : 117, elapse : 0.969489574432373\n",
            "[2023/09/09 00:40:57] ppocr DEBUG: rec_res num  : 117, elapse : 23.302870988845825\n"
          ]
        }
      ]
    },
    {
      "cell_type": "markdown",
      "source": [
        "## 関数化しておく"
      ],
      "metadata": {
        "id": "NEW_VqesQbWm"
      }
    }
  ]
}